{
 "cells": [
  {
   "cell_type": "code",
   "execution_count": 1,
   "metadata": {},
   "outputs": [],
   "source": [
    "# !pip install openai"
   ]
  },
  {
   "cell_type": "code",
   "execution_count": 2,
   "metadata": {},
   "outputs": [],
   "source": [
    "# import openai\n",
    "# print(openai.__version__)"
   ]
  },
  {
   "cell_type": "code",
   "execution_count": 3,
   "metadata": {},
   "outputs": [],
   "source": [
    "import os\n",
    "from openai import OpenAI\n",
    "\n",
    "client = OpenAI(\n",
    "    api_key=os.environ.get(\"OPENAI_API_KEY\"),  # This is the default and can be omitted\n",
    ")\n",
    "\n",
    "chat_completion = client.chat.completions.create(\n",
    "    messages=[\n",
    "        {\n",
    "            \"role\": \"user\",\n",
    "            \"content\": \"Say this is a test\",\n",
    "        }\n",
    "    ],\n",
    "    model=\"gpt-4o\",\n",
    ")"
   ]
  },
  {
   "cell_type": "code",
   "execution_count": 3,
   "metadata": {},
   "outputs": [
    {
     "name": "stdout",
     "output_type": "stream",
     "text": [
      "This is a test.\n"
     ]
    }
   ],
   "source": [
    "import os\n",
    "from openai import OpenAI\n",
    "\n",
    "# Instantiating the client \n",
    "client = OpenAI(api_key=os.environ.get(\"OPENAI_API_KEY\"))\n",
    "\n",
    "def get_chat_completion(prompt, model=\"gpt-4\"):\n",
    "    try:\n",
    "        # Creating a chat completion request\n",
    "        response = client.chat.completions.create(\n",
    "            messages=[\n",
    "                {\"role\": \"user\", \"content\": prompt}\n",
    "            ],\n",
    "            model=model\n",
    "        )\n",
    "        \n",
    "        # Extracting the text from the response\n",
    "        # Assuming 'choices' is correctly accessed, get the text content from message\n",
    "        completion_message = response.choices[0].message\n",
    "        return completion_message.content.strip()\n",
    "\n",
    "    except Exception as e:\n",
    "        print(f\"An error occurred: {e}\")\n",
    "        return None\n",
    "\n",
    "# Example\n",
    "result = get_chat_completion(\"Say this is a test\")\n",
    "if result:\n",
    "    print(result)"
   ]
  },
  {
   "cell_type": "code",
   "execution_count": null,
   "metadata": {},
   "outputs": [
    {
     "name": "stdout",
     "output_type": "stream",
     "text": [
      "Why don't skeletons fight each other?\n",
      "\n",
      "They don't have the guts."
     ]
    }
   ],
   "source": [
    "# Instantiating the OpenAI client with your API key\n",
    "client = OpenAI(api_key=os.environ.get(\"OPENAI_API_KEY\"))\n",
    "\n",
    "# Initializing the conversation history\n",
    "conversation_history = []\n",
    "\n",
    "def stream_chat_response(user_input, model=\"gpt-4o\"):\n",
    "    try:\n",
    "        # Creating a streaming completion request\n",
    "        response_stream = client.chat.completions.create(\n",
    "            model=model,\n",
    "            messages=[{\"role\": \"user\", \"content\": user_input}],\n",
    "            stream=True,  # Enable streaming mode\n",
    "            max_tokens=200,\n",
    "            temperature=0.9  # Controls the level of creativity (0 to 1)\n",
    "        )\n",
    "\n",
    "        bot_response = \"\"\n",
    "\n",
    "        # Iterating over the streaming response chunks\n",
    "        for chunk in response_stream:\n",
    "            # Checking if a content part was received in this chunk\n",
    "            if chunk.choices[0].delta.content:\n",
    "                # Accumulating the content parts into bot_response\n",
    "                bot_response += chunk.choices[0].delta.content\n",
    "                # Printing each chunk content promptly as it arrives\n",
    "                print(chunk.choices[0].delta.content, end='')\n",
    "\n",
    "        # Adding the assistant's response to the conversation history\n",
    "        conversation_history.append({\"role\": \"assistant\", \"content\": bot_response.strip()})\n",
    "\n",
    "\n",
    "        return bot_response.strip()\n",
    "\n",
    "    except Exception as e:\n",
    "        print(f\"Error: {e}\")\n",
    "        return None\n",
    "\n",
    "# Example \n",
    "while True:\n",
    "    user_input = input(\"You: \")\n",
    "    if user_input.lower() == \"exit\":\n",
    "        break\n",
    "    stream_chat_response(user_input)"
   ]
  }
 ],
 "metadata": {
  "kernelspec": {
   "display_name": "base",
   "language": "python",
   "name": "python3"
  },
  "language_info": {
   "codemirror_mode": {
    "name": "ipython",
    "version": 3
   },
   "file_extension": ".py",
   "mimetype": "text/x-python",
   "name": "python",
   "nbconvert_exporter": "python",
   "pygments_lexer": "ipython3",
   "version": "3.12.7"
  }
 },
 "nbformat": 4,
 "nbformat_minor": 2
}
